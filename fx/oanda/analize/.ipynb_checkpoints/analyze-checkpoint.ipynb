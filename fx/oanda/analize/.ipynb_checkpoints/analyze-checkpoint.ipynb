{
 "cells": [
  {
   "cell_type": "code",
   "execution_count": 8,
   "metadata": {},
   "outputs": [],
   "source": [
    "# ライブラリの読み込み\n",
    "import pandas as pd\n",
    "import numpy as np\n",
    "import time\n",
    "import datetime\n",
    "%matplotlib qt"
   ]
  },
  {
   "cell_type": "code",
   "execution_count": 34,
   "metadata": {},
   "outputs": [],
   "source": [
    "df = pd.read_csv(\n",
    "    'USDJPY_000101_190531_day.csv',\n",
    "    index_col='DateTime',\n",
    "    sep='\\s|,',\n",
    "    engine='python',\n",
    "    names=[\n",
    "        'Ticker', 'Per', 'DateTime', 'Time', 'Open', 'High', 'Low', 'Close',\n",
    "        'Vol'\n",
    "    ],\n",
    "    skiprows=1)"
   ]
  },
  {
   "cell_type": "code",
   "execution_count": 37,
   "metadata": {},
   "outputs": [],
   "source": [
    "del df['Ticker']"
   ]
  },
  {
   "cell_type": "code",
   "execution_count": 38,
   "metadata": {},
   "outputs": [],
   "source": [
    "del df['Per']\n",
    "del df['Time']\n",
    "del df['Vol']"
   ]
  },
  {
   "cell_type": "code",
   "execution_count": 51,
   "metadata": {},
   "outputs": [],
   "source": [
    "df.index = pd.to_datetime(df.index, unit='s')"
   ]
  },
  {
   "cell_type": "code",
   "execution_count": 54,
   "metadata": {},
   "outputs": [],
   "source": [
    "min_1 = df.resample('1Min').ohlc()"
   ]
  },
  {
   "cell_type": "code",
   "execution_count": 67,
   "metadata": {},
   "outputs": [],
   "source": [
    "min_1 = min_1.dropna()"
   ]
  },
  {
   "cell_type": "code",
   "execution_count": 69,
   "metadata": {},
   "outputs": [],
   "source": [
    "buy_1min = min_1.xs('Open', axis=1, drop_level=True)"
   ]
  },
  {
   "cell_type": "code",
   "execution_count": 59,
   "metadata": {},
   "outputs": [],
   "source": [
    "buy_1min_s = buy_1min[0:100]"
   ]
  },
  {
   "cell_type": "code",
   "execution_count": 2,
   "metadata": {},
   "outputs": [],
   "source": [
    "import matplotlib.pyplot as plt\n",
    "from mpl_finance import candlestick2_ohlc, volume_overlay\n",
    "from matplotlib import ticker\n",
    "import matplotlib.dates as mdates"
   ]
  },
  {
   "cell_type": "code",
   "execution_count": 3,
   "metadata": {},
   "outputs": [],
   "source": [
    "def candlechart(data, width=0.8):\n",
    "    fig, ax = plt.subplots()\n",
    "    # ローソク足\n",
    "    mpf.candlestick2_ohlc(ax, opens=data.open.values, closes=data.close.values,\n",
    "                          lows=data.low.values, highs=data.high.values,\n",
    "                          width=width, colorup='r', colordown='b')\n",
    " \n",
    "    xdate = data.index\n",
    "    ax.xaxis.set_major_locator(ticker.MaxNLocator(6))\n",
    " \n",
    "    def mydate(x, pos):\n",
    "        try:\n",
    "            return xdate[int(x)]\n",
    "        except IndexError:\n",
    "            return ''\n",
    " \n",
    "    ax.xaxis.set_major_formatter(ticker.FuncFormatter(mydate))\n",
    "    ax.format_xdata = mdates.DateFormatter('%Y-%m-%d')\n",
    " \n",
    "    fig.autofmt_xdate()\n",
    "    fig.tight_layout()\n",
    " \n",
    "    return fig, ax"
   ]
  },
  {
   "cell_type": "code",
   "execution_count": 4,
   "metadata": {},
   "outputs": [
    {
     "ename": "NameError",
     "evalue": "name 'buy_1min_s' is not defined",
     "output_type": "error",
     "traceback": [
      "\u001b[0;31m---------------------------------------------------------------------------\u001b[0m",
      "\u001b[0;31mNameError\u001b[0m                                 Traceback (most recent call last)",
      "\u001b[0;32m<ipython-input-4-24b63e8e2b31>\u001b[0m in \u001b[0;36m<module>\u001b[0;34m()\u001b[0m\n\u001b[0;32m----> 1\u001b[0;31m \u001b[0mcandlechart\u001b[0m\u001b[0;34m(\u001b[0m\u001b[0mbuy_1min_s\u001b[0m\u001b[0;34m)\u001b[0m\u001b[0;34m\u001b[0m\u001b[0m\n\u001b[0m",
      "\u001b[0;31mNameError\u001b[0m: name 'buy_1min_s' is not defined"
     ]
    }
   ],
   "source": [
    "candlechart(buy_1min_s)"
   ]
  }
 ],
 "metadata": {
  "kernelspec": {
   "display_name": "Python 3",
   "language": "python",
   "name": "python3"
  },
  "language_info": {
   "codemirror_mode": {
    "name": "ipython",
    "version": 3
   },
   "file_extension": ".py",
   "mimetype": "text/x-python",
   "name": "python",
   "nbconvert_exporter": "python",
   "pygments_lexer": "ipython3",
   "version": "3.6.5"
  }
 },
 "nbformat": 4,
 "nbformat_minor": 2
}
